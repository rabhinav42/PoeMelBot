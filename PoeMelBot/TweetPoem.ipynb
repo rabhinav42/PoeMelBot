{
 "cells": [
  {
   "cell_type": "code",
   "execution_count": 0,
   "metadata": {
    "colab": {},
    "colab_type": "code",
    "id": "aazpaBby0RTX"
   },
   "outputs": [],
   "source": [
    "from google.colab import drive\n",
    "drive.mount('/content/drive')"
   ]
  },
  {
   "cell_type": "code",
   "execution_count": 0,
   "metadata": {
    "colab": {},
    "colab_type": "code",
    "id": "XNyYR7GB0TKh"
   },
   "outputs": [],
   "source": [
    "cd drive/My Drive/PoeMelBot"
   ]
  },
  {
   "cell_type": "code",
   "execution_count": 0,
   "metadata": {
    "colab": {},
    "colab_type": "code",
    "id": "BmB7wYLQYB4G"
   },
   "outputs": [],
   "source": [
    "import time"
   ]
  },
  {
   "cell_type": "code",
   "execution_count": 0,
   "metadata": {
    "colab": {},
    "colab_type": "code",
    "id": "2rTcyOdY1IzC"
   },
   "outputs": [],
   "source": [
    "pip install markovify"
   ]
  },
  {
   "cell_type": "code",
   "execution_count": 0,
   "metadata": {
    "colab": {},
    "colab_type": "code",
    "id": "flDhNblsr38l"
   },
   "outputs": [],
   "source": [
    "pip install tweepy"
   ]
  },
  {
   "cell_type": "code",
   "execution_count": 0,
   "metadata": {
    "colab": {},
    "colab_type": "code",
    "id": "0S5g2Jcu1LJH"
   },
   "outputs": [],
   "source": [
    "import markovify\n",
    "import tweepy\n",
    "\n",
    "## read models and save in list ##\n",
    "\n",
    "models = []\n",
    "with open(\"poe_mel_model.json\") as f:\n",
    "  models.append(markovify.Text.from_json(f.read()))\n",
    "with open(\"poe_mel_rand_model.json\") as f:\n",
    "  models.append(markovify.Text.from_json(f.read()))\n",
    "with open(\"poe_model.json\") as f:\n",
    "  models.append(markovify.Text.from_json(f.read()))\n",
    "with open(\"mel_model.json\") as f:\n",
    "  models.append(markovify.Text.from_json(f.read()))\n",
    "\n",
    "types = [\"\\n~H\" , \"\\n~H\" , \"\\n~P\" , \"\\n~M\"] ## type tags"
   ]
  },
  {
   "cell_type": "code",
   "execution_count": 0,
   "metadata": {
    "colab": {},
    "colab_type": "code",
    "id": "8vNA1hLZ1OsZ"
   },
   "outputs": [],
   "source": [
    "import random\n",
    "tweets = [] ## save tweets in a list\n",
    "\n",
    "## sample tweets and format ##\n",
    "\n",
    "for i in range(2):\n",
    "  rand = random.random()\n",
    "  choice = int(4*rand)\n",
    "  tweet = models[choice].make_sentence(tries = 150 , max_overlap_ratio = 0.6 , max_chars = 140).replace(\".\" , \"\\n\")\n",
    "  tweet = tweet.replace(\"_\" , \"\")\n",
    "  tweet = tweet.rstrip()\n",
    "  tweet = tweet + \".\"\n",
    "  tweet = tweet + types[choice]\n",
    "  tweets.append(tweet)\n",
    "\n",
    "print(tweets[0]+\"\\n\"+tweets[1]) ## print tweets for review"
   ]
  },
  {
   "cell_type": "code",
   "execution_count": 0,
   "metadata": {
    "colab": {},
    "colab_type": "code",
    "id": "_YaUKHKoorWW"
   },
   "outputs": [],
   "source": [
    "consumer_key = ''\n",
    "consumer_key_secret = ''\n",
    "access_token = ''\n",
    "access_token_secret = ''\n",
    "auth = tweepy.OAuthHandler(consumer_key, consumer_key_secret)\n",
    "auth.set_access_token(access_token, access_token_secret)\n",
    "api = tweepy.API(auth)\n",
    "tweets_id = []"
   ]
  },
  {
   "cell_type": "code",
   "execution_count": 0,
   "metadata": {
    "colab": {},
    "colab_type": "code",
    "id": "MqBYhubdp94S"
   },
   "outputs": [],
   "source": [
    "tweet1 = api.update_status(tweets[0])\n",
    "tweets_id = tweets_id.append(tweet1.id)\n",
    "time.sleep(120)\n",
    "tweet2 = api.update_status(tweets[1])\n",
    "tweets_id = tweets_id.append(tweet2.id)"
   ]
  }
 ],
 "metadata": {
  "colab": {
   "collapsed_sections": [],
   "name": "TweetPoem.ipynb",
   "provenance": [],
   "version": "0.3.2"
  },
  "kernelspec": {
   "display_name": "Python 3",
   "language": "python",
   "name": "python3"
  },
  "language_info": {
   "codemirror_mode": {
    "name": "ipython",
    "version": 3
   },
   "file_extension": ".py",
   "mimetype": "text/x-python",
   "name": "python",
   "nbconvert_exporter": "python",
   "pygments_lexer": "ipython3",
   "version": "3.7.1"
  }
 },
 "nbformat": 4,
 "nbformat_minor": 1
}
